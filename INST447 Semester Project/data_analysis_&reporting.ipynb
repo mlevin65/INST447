{
  "nbformat": 4,
  "nbformat_minor": 0,
  "metadata": {
    "colab": {
      "provenance": []
    },
    "kernelspec": {
      "name": "python3",
      "display_name": "Python 3"
    },
    "language_info": {
      "name": "python"
    }
  },
  "cells": [
    {
      "cell_type": "markdown",
      "source": [
        "## Introduction and Motivation\n",
        "\n",
        "This project aims to address the high frequency of traffic accidents in New York City, which often result in injury, fatality, or significant damage. Traffic accidents not only pose serious safety risks but also cause economic losses and disruptions to commuting and city life.\n",
        "\n",
        "### Research Questions:\n",
        "1. Where are the most frequent traffic accident-prone locations in New York City, and what factors contribute to the occurrence of accidents in these locations?\n",
        "2. Which contributing factors are most commonly reported in accidents occurring at identified accident-prone locations?"
      ],
      "metadata": {
        "id": "SLU8HYw8Cpoh"
      }
    },
    {
      "cell_type": "markdown",
      "source": [
        "## Data Collection\n",
        "\n",
        "The data was collected from the New York City Police Department (NYPD) through the NYC Open Data portal. The dataset titled \"Motor Vehicle Collisions - Crashes\" was downloaded as a CSV file.\n",
        "\n",
        "Key Collection Details:\n",
        "- Source: NYPD via NYC Open Data portal\n",
        "- Original Dataset Size: 2.13 million records\n",
        "- Sampling: Randomly selected 10,000 records for analysis\n",
        "- Time Period: Data from April 28, 2014 to present"
      ],
      "metadata": {
        "id": "M7vTDDEsDERF"
      }
    },
    {
      "cell_type": "code",
      "source": [
        "import pandas as pd\n",
        "\n",
        "# Load the large CSV file\n",
        "#file_path = 'Motor_Vehicle_Collisions_-_Crashes_20241105.csv'\n",
        "#data = pd.read_csv(file_path)\n",
        "\n",
        "# Randomly sample 10,000 rows\n",
        "#sampled_data = data.sample(n=10000, random_state=1)\n",
        "\n",
        "# Save the sampled data to a new CSV file\n",
        "#sampled_data.to_csv('sampled_file.csv', index=False)\n"
      ],
      "metadata": {
        "id": "S6Pm5r3uWjMH"
      },
      "execution_count": 6,
      "outputs": []
    },
    {
      "cell_type": "code",
      "source": [
        "import pandas as pd\n",
        "import matplotlib.pyplot as plt\n",
        "import seaborn as sns\n",
        "\n",
        "# Load the dataset (sample size of 10,000)\n",
        "df = pd.read_csv('sampled_file.csv')\n",
        "\n",
        "# Display basic information about the dataset\n",
        "print(\"Dataset Shape:\", df.shape)\n",
        "print(\"\\nColumns in dataset:\", df.columns.tolist())"
      ],
      "metadata": {
        "colab": {
          "base_uri": "https://localhost:8080/"
        },
        "id": "Ssr1HYMED4R-",
        "outputId": "ca5cf738-608b-4857-ec7e-0fdcd2f79d08"
      },
      "execution_count": 7,
      "outputs": [
        {
          "output_type": "stream",
          "name": "stdout",
          "text": [
            "Dataset Shape: (10000, 29)\n",
            "\n",
            "Columns in dataset: ['CRASH DATE', 'CRASH TIME', 'BOROUGH', 'ZIP CODE', 'LATITUDE', 'LONGITUDE', 'LOCATION', 'ON STREET NAME', 'CROSS STREET NAME', 'OFF STREET NAME', 'NUMBER OF PERSONS INJURED', 'NUMBER OF PERSONS KILLED', 'NUMBER OF PEDESTRIANS INJURED', 'NUMBER OF PEDESTRIANS KILLED', 'NUMBER OF CYCLIST INJURED', 'NUMBER OF CYCLIST KILLED', 'NUMBER OF MOTORIST INJURED', 'NUMBER OF MOTORIST KILLED', 'CONTRIBUTING FACTOR VEHICLE 1', 'CONTRIBUTING FACTOR VEHICLE 2', 'CONTRIBUTING FACTOR VEHICLE 3', 'CONTRIBUTING FACTOR VEHICLE 4', 'CONTRIBUTING FACTOR VEHICLE 5', 'COLLISION_ID', 'VEHICLE TYPE CODE 1', 'VEHICLE TYPE CODE 2', 'VEHICLE TYPE CODE 3', 'VEHICLE TYPE CODE 4', 'VEHICLE TYPE CODE 5']\n"
          ]
        }
      ]
    },
    {
      "cell_type": "markdown",
      "source": [
        "## Data Description\n",
        "\n",
        "Our dataset contains 10,000 accident records with 29 variables where every row is a accident record. Key variables include:\n",
        "\n",
        "- CRASH DATE/TIME: When the accident occurred\n",
        "- BOROUGH: Location by NYC borough\n",
        "- LATITUDE/LONGITUDE: Precise location coordinates\n",
        "- NUMBER OF PERSONS INJURED/KILLED: Casualty information\n",
        "- CONTRIBUTING FACTOR: What caused the accident\n",
        "- VEHICLE TYPE: Types of vehicles involved\n",
        "\n",
        "Let's examine basic statistics for key variables:"
      ],
      "metadata": {
        "id": "qE9WqAtoD9Tx"
      }
    },
    {
      "cell_type": "code",
      "source": [
        "# Display basic statistics\n",
        "print(\"Basic Statistics for Numerical Variables:\")\n",
        "print(df[['NUMBER OF PERSONS INJURED', 'NUMBER OF PERSONS KILLED']].describe())\n",
        "\n",
        "print(\"\\nBorough Distribution:\")\n",
        "print(df['BOROUGH'].value_counts(dropna=False))"
      ],
      "metadata": {
        "colab": {
          "base_uri": "https://localhost:8080/"
        },
        "id": "0hieFlsxEWxY",
        "outputId": "60448c4a-abb1-413f-ae33-e6ebbb1554e4"
      },
      "execution_count": 8,
      "outputs": [
        {
          "output_type": "stream",
          "name": "stdout",
          "text": [
            "Basic Statistics for Numerical Variables:\n",
            "       NUMBER OF PERSONS INJURED  NUMBER OF PERSONS KILLED\n",
            "count               10000.000000              10000.000000\n",
            "mean                    0.331800                  0.001900\n",
            "std                     0.685387                  0.045789\n",
            "min                     0.000000                  0.000000\n",
            "25%                     0.000000                  0.000000\n",
            "50%                     0.000000                  0.000000\n",
            "75%                     0.000000                  0.000000\n",
            "max                    11.000000                  2.000000\n",
            "\n",
            "Borough Distribution:\n",
            "BOROUGH\n",
            "NaN              3468\n",
            "BROOKLYN         2144\n",
            "QUEENS           1828\n",
            "MANHATTAN        1217\n",
            "BRONX            1103\n",
            "STATEN ISLAND     240\n",
            "Name: count, dtype: int64\n"
          ]
        }
      ]
    },
    {
      "cell_type": "markdown",
      "source": [
        "The count variable at the top represents the number of rows for the sampled data. The mean represents the average number of people injured/killed per crash. The max variable represents the number of persons injured/killed in a single crash.\n",
        "\n",
        "The NaN value represents accedet records that were not located in any certian borough."
      ],
      "metadata": {
        "id": "oXif9JBeZblR"
      }
    },
    {
      "cell_type": "markdown",
      "source": [
        "## Data Cleaning and Wrangling\n",
        "\n",
        "The following cleaning steps were performed:\n",
        "1. Handled missing values in location data\n",
        "2. Standardized date/time formats\n",
        "3. Removed duplicate records\n",
        "4. Standardized borough names and street names\n",
        "5. Created derived fields for day of week and hour"
      ],
      "metadata": {
        "id": "8ayRZiMREsV_"
      }
    },
    {
      "cell_type": "code",
      "source": [
        "import pandas as pd\n",
        "\n",
        "# Reload the newly uploaded dataset\n",
        "file_path = 'sampled_file.csv'\n",
        "data = pd.read_csv(file_path)\n",
        "\n",
        "# Drop the specified columns from the dataset\n",
        "columns_to_drop = [\n",
        "    \"CONTRIBUTING FACTOR VEHICLE 3\",\n",
        "    \"CONTRIBUTING FACTOR VEHICLE 4\",\n",
        "    \"CONTRIBUTING FACTOR VEHICLE 5\",\n",
        "    \"VEHICLE TYPE CODE 3\",\n",
        "    \"VEHICLE TYPE CODE 4\",\n",
        "    \"VEHICLE TYPE CODE 5\"\n",
        "]\n",
        "cleaned_data = data.drop(columns=columns_to_drop)\n",
        "\n",
        "# Verify the columns have been removed\n",
        "cleaned_data.head(), cleaned_data.columns"
      ],
      "metadata": {
        "colab": {
          "base_uri": "https://localhost:8080/"
        },
        "id": "RO7q7WJ1cFU9",
        "outputId": "f8e10ae1-2b62-4745-b236-86300833ce1e"
      },
      "execution_count": 9,
      "outputs": [
        {
          "output_type": "execute_result",
          "data": {
            "text/plain": [
              "(   CRASH DATE CRASH TIME    BOROUGH  ZIP CODE   LATITUDE  LONGITUDE  \\\n",
              " 0  05/01/2018       7:28        NaN       NaN  40.798256  -73.82744   \n",
              " 1  07/13/2018      23:30      BRONX   10460.0  40.845226  -73.88079   \n",
              " 2  08/15/2020      23:59     QUEENS   11435.0  40.693295  -73.80802   \n",
              " 3  11/18/2019      16:20      BRONX   10455.0  40.813377  -73.91732   \n",
              " 4  11/09/2019       3:40  MANHATTAN   10022.0  40.754990  -73.96536   \n",
              " \n",
              "                  LOCATION                    ON STREET NAME CROSS STREET NAME  \\\n",
              " 0  (40.798256, -73.82744)  BRONX WHITESTONE BRIDGE                        NaN   \n",
              " 1  (40.845226, -73.88079)                               NaN               NaN   \n",
              " 2  (40.693295, -73.80802)  LIBERTY AVENUE                       INWOOD STREET   \n",
              " 3  (40.813377, -73.91732)                               NaN               NaN   \n",
              " 4   (40.75499, -73.96536)                               NaN               NaN   \n",
              " \n",
              "                             OFF STREET NAME  ...  \\\n",
              " 0                                       NaN  ...   \n",
              " 1  924       EAST 181 STREET                 ...   \n",
              " 2                                       NaN  ...   \n",
              " 3  473       EAST 146 STREET                 ...   \n",
              " 4  939       1 AVENUE                        ...   \n",
              " \n",
              "    NUMBER OF PEDESTRIANS KILLED  NUMBER OF CYCLIST INJURED  \\\n",
              " 0                           0.0                        0.0   \n",
              " 1                           0.0                        0.0   \n",
              " 2                           1.0                        0.0   \n",
              " 3                           0.0                        0.0   \n",
              " 4                           0.0                        0.0   \n",
              " \n",
              "    NUMBER OF CYCLIST KILLED  NUMBER OF MOTORIST INJURED  \\\n",
              " 0                       0.0                         0.0   \n",
              " 1                       0.0                         0.0   \n",
              " 2                       0.0                         0.0   \n",
              " 3                       0.0                         0.0   \n",
              " 4                       0.0                         0.0   \n",
              " \n",
              "    NUMBER OF MOTORIST KILLED   CONTRIBUTING FACTOR VEHICLE 1  \\\n",
              " 0                        0.0  Reaction to Uninvolved Vehicle   \n",
              " 1                        0.0             Passing Too Closely   \n",
              " 2                        0.0  Driver Inattention/Distraction   \n",
              " 3                        0.0                     Unspecified   \n",
              " 4                        0.0  Driver Inattention/Distraction   \n",
              " \n",
              "     CONTRIBUTING FACTOR VEHICLE 2  COLLISION_ID  \\\n",
              " 0           Following Too Closely     3891651.0   \n",
              " 1                     Unspecified     3941412.0   \n",
              " 2                             NaN     4338622.0   \n",
              " 3                     Unspecified     4243494.0   \n",
              " 4  Driver Inattention/Distraction     4237914.0   \n",
              " \n",
              "                    VEHICLE TYPE CODE 1 VEHICLE TYPE CODE 2  \n",
              " 0                                Sedan               Sedan  \n",
              " 1  Station Wagon/Sport Utility Vehicle               Sedan  \n",
              " 2  Station Wagon/Sport Utility Vehicle                 NaN  \n",
              " 3                                  Bus               Sedan  \n",
              " 4                        Pick-up Truck                Taxi  \n",
              " \n",
              " [5 rows x 23 columns],\n",
              " Index(['CRASH DATE', 'CRASH TIME', 'BOROUGH', 'ZIP CODE', 'LATITUDE',\n",
              "        'LONGITUDE', 'LOCATION', 'ON STREET NAME', 'CROSS STREET NAME',\n",
              "        'OFF STREET NAME', 'NUMBER OF PERSONS INJURED',\n",
              "        'NUMBER OF PERSONS KILLED', 'NUMBER OF PEDESTRIANS INJURED',\n",
              "        'NUMBER OF PEDESTRIANS KILLED', 'NUMBER OF CYCLIST INJURED',\n",
              "        'NUMBER OF CYCLIST KILLED', 'NUMBER OF MOTORIST INJURED',\n",
              "        'NUMBER OF MOTORIST KILLED', 'CONTRIBUTING FACTOR VEHICLE 1',\n",
              "        'CONTRIBUTING FACTOR VEHICLE 2', 'COLLISION_ID', 'VEHICLE TYPE CODE 1',\n",
              "        'VEHICLE TYPE CODE 2'],\n",
              "       dtype='object'))"
            ]
          },
          "metadata": {},
          "execution_count": 9
        }
      ]
    },
    {
      "cell_type": "code",
      "source": [
        "# Step 1: Handle Missing Data\n",
        "\n",
        "# Impute or drop missing values for location data\n",
        "# Drop rows where both latitude and longitude are missing\n",
        "cleaned_data = cleaned_data.dropna(subset=[\"LATITUDE\", \"LONGITUDE\"], how=\"all\")\n",
        "\n",
        "# Fill missing contributing factors with 'Unspecified'\n",
        "cleaned_data[\"CONTRIBUTING FACTOR VEHICLE 1\"] = cleaned_data[\"CONTRIBUTING FACTOR VEHICLE 1\"].fillna(\"Unspecified\")\n",
        "cleaned_data[\"CONTRIBUTING FACTOR VEHICLE 2\"] = cleaned_data[\"CONTRIBUTING FACTOR VEHICLE 2\"].fillna(\"Unspecified\")\n",
        "\n",
        "# Step 2: Standardize Data Formats\n",
        "\n",
        "# Combine CRASH DATE and CRASH TIME into a single datetime column\n",
        "cleaned_data[\"CRASH DATETIME\"] = pd.to_datetime(cleaned_data[\"CRASH DATE\"] + \" \" + cleaned_data[\"CRASH TIME\"])\n",
        "\n",
        "# Drop the original CRASH DATE and CRASH TIME columns\n",
        "cleaned_data = cleaned_data.drop(columns=[\"CRASH DATE\", \"CRASH TIME\"])\n",
        "\n",
        "# Standardize borough names to uppercase\n",
        "cleaned_data[\"BOROUGH\"] = cleaned_data[\"BOROUGH\"].str.upper()\n",
        "\n",
        "# Step 3: Remove Duplicates\n",
        "# Ensure each row is unique based on COLLISION_ID\n",
        "cleaned_data = cleaned_data.drop_duplicates(subset=[\"COLLISION_ID\"])\n",
        "\n",
        "# Step 4: Address Outliers\n",
        "# Ensure injury and fatality numbers are non-negative\n",
        "numerical_columns = [\n",
        "    \"NUMBER OF PERSONS INJURED\",\n",
        "    \"NUMBER OF PERSONS KILLED\",\n",
        "    \"NUMBER OF PEDESTRIANS INJURED\",\n",
        "    \"NUMBER OF PEDESTRIANS KILLED\",\n",
        "    \"NUMBER OF CYCLIST INJURED\",\n",
        "    \"NUMBER OF CYCLIST KILLED\",\n",
        "    \"NUMBER OF MOTORIST INJURED\",\n",
        "    \"NUMBER OF MOTORIST KILLED\"\n",
        "]\n",
        "cleaned_data[numerical_columns] = cleaned_data[numerical_columns].clip(lower=0)\n",
        "\n",
        "# Step 5: Normalize Entity Representations\n",
        "# Standardize street name fields (e.g., remove extra spaces)\n",
        "street_columns = [\"ON STREET NAME\", \"CROSS STREET NAME\", \"OFF STREET NAME\"]\n",
        "for col in street_columns:\n",
        "    cleaned_data[col] = cleaned_data[col].str.strip().str.upper()\n",
        "\n",
        "# Step 6: Reduce Dataset for Analysis\n",
        "# Select the most recent 10,000 records based on CRASH DATETIME\n",
        "cleaned_data = cleaned_data.sort_values(by=\"CRASH DATETIME\", ascending=False).head(10000)\n",
        "\n",
        "# Step 7: Prepare Data for Visualization\n",
        "# Create derived fields for day of the week and hour of the crash\n",
        "cleaned_data[\"DAY OF WEEK\"] = cleaned_data[\"CRASH DATETIME\"].dt.day_name()\n",
        "cleaned_data[\"HOUR OF DAY\"] = cleaned_data[\"CRASH DATETIME\"].dt.hour\n",
        "\n",
        "# Save the cleaned data to a new CSV file for further analysis\n",
        "cleaned_data.to_csv('/content/final_data.csv', index=False)\n",
        "#cleaned_data.to_csv(output_path, index=False)\n",
        "print(\"Data cleaning complete. Shape of cleaned dataset:\", cleaned_data.shape)\n",
        "cleaned_data.head()"
      ],
      "metadata": {
        "colab": {
          "base_uri": "https://localhost:8080/",
          "height": 828
        },
        "id": "zqLOnt2lcI9C",
        "outputId": "bdc843d7-fbda-4da3-a75f-277e9e449570"
      },
      "execution_count": 10,
      "outputs": [
        {
          "output_type": "stream",
          "name": "stderr",
          "text": [
            "<ipython-input-10-fad9f60cafd3>:8: SettingWithCopyWarning: \n",
            "A value is trying to be set on a copy of a slice from a DataFrame.\n",
            "Try using .loc[row_indexer,col_indexer] = value instead\n",
            "\n",
            "See the caveats in the documentation: https://pandas.pydata.org/pandas-docs/stable/user_guide/indexing.html#returning-a-view-versus-a-copy\n",
            "  cleaned_data[\"CONTRIBUTING FACTOR VEHICLE 1\"] = cleaned_data[\"CONTRIBUTING FACTOR VEHICLE 1\"].fillna(\"Unspecified\")\n",
            "<ipython-input-10-fad9f60cafd3>:9: SettingWithCopyWarning: \n",
            "A value is trying to be set on a copy of a slice from a DataFrame.\n",
            "Try using .loc[row_indexer,col_indexer] = value instead\n",
            "\n",
            "See the caveats in the documentation: https://pandas.pydata.org/pandas-docs/stable/user_guide/indexing.html#returning-a-view-versus-a-copy\n",
            "  cleaned_data[\"CONTRIBUTING FACTOR VEHICLE 2\"] = cleaned_data[\"CONTRIBUTING FACTOR VEHICLE 2\"].fillna(\"Unspecified\")\n",
            "<ipython-input-10-fad9f60cafd3>:14: SettingWithCopyWarning: \n",
            "A value is trying to be set on a copy of a slice from a DataFrame.\n",
            "Try using .loc[row_indexer,col_indexer] = value instead\n",
            "\n",
            "See the caveats in the documentation: https://pandas.pydata.org/pandas-docs/stable/user_guide/indexing.html#returning-a-view-versus-a-copy\n",
            "  cleaned_data[\"CRASH DATETIME\"] = pd.to_datetime(cleaned_data[\"CRASH DATE\"] + \" \" + cleaned_data[\"CRASH TIME\"])\n"
          ]
        },
        {
          "output_type": "stream",
          "name": "stdout",
          "text": [
            "Data cleaning complete. Shape of cleaned dataset: (9185, 24)\n"
          ]
        },
        {
          "output_type": "execute_result",
          "data": {
            "text/plain": [
              "        BOROUGH  ZIP CODE   LATITUDE  LONGITUDE                 LOCATION  \\\n",
              "6146        NaN       NaN  40.707966 -73.999750   (40.707966, -73.99975)   \n",
              "6562      BRONX   10458.0  40.866730 -73.887730    (40.86673, -73.88773)   \n",
              "643   MANHATTAN   10009.0  40.730877 -73.982900    (40.730877, -73.9829)   \n",
              "4549        NaN       NaN  40.902958 -73.896416  (40.902958, -73.896416)   \n",
              "8742        NaN       NaN  40.607212 -74.076820   (40.607212, -74.07682)   \n",
              "\n",
              "       ON STREET NAME   CROSS STREET NAME          OFF STREET NAME  \\\n",
              "6146        FDR DRIVE                 NaN                      NaN   \n",
              "6562              NaN                 NaN  2781      MARION AVENUE   \n",
              "643               NaN                 NaN       222       1 AVENUE   \n",
              "4549         BROADWAY                 NaN                      NaN   \n",
              "8742  HYLAN BOULEVARD  NARROWS ROAD NORTH                      NaN   \n",
              "\n",
              "      NUMBER OF PERSONS INJURED  NUMBER OF PERSONS KILLED  ...  \\\n",
              "6146                        0.0                       0.0  ...   \n",
              "6562                        0.0                       0.0  ...   \n",
              "643                         0.0                       0.0  ...   \n",
              "4549                        2.0                       0.0  ...   \n",
              "8742                        0.0                       0.0  ...   \n",
              "\n",
              "      NUMBER OF MOTORIST INJURED  NUMBER OF MOTORIST KILLED  \\\n",
              "6146                         0.0                        0.0   \n",
              "6562                         0.0                        0.0   \n",
              "643                          0.0                        0.0   \n",
              "4549                         2.0                        0.0   \n",
              "8742                         0.0                        0.0   \n",
              "\n",
              "       CONTRIBUTING FACTOR VEHICLE 1  CONTRIBUTING FACTOR VEHICLE 2  \\\n",
              "6146            Unsafe Lane Changing                    Unspecified   \n",
              "6562                     Unspecified                    Unspecified   \n",
              "643   Driver Inattention/Distraction                    Unspecified   \n",
              "4549                     Unspecified                    Unspecified   \n",
              "8742  Driver Inattention/Distraction                    Unspecified   \n",
              "\n",
              "      COLLISION_ID                  VEHICLE TYPE CODE 1 VEHICLE TYPE CODE 2  \\\n",
              "6146     4713934.0                                Sedan               Sedan   \n",
              "6562     4708608.0                                Sedan                 NaN   \n",
              "643      4689818.0                                Sedan                 Bus   \n",
              "4549     4644472.0                                Sedan               Sedan   \n",
              "8742     4561084.0  Station Wagon/Sport Utility Vehicle                 NaN   \n",
              "\n",
              "          CRASH DATETIME  DAY OF WEEK HOUR OF DAY  \n",
              "6146 2024-03-29 10:39:00       Friday          10  \n",
              "6562 2024-03-10 09:46:00       Sunday           9  \n",
              "643  2023-12-22 21:13:00       Friday          21  \n",
              "4549 2023-07-09 22:22:00       Sunday          22  \n",
              "8742 2022-09-04 05:00:00       Sunday           5  \n",
              "\n",
              "[5 rows x 24 columns]"
            ],
            "text/html": [
              "\n",
              "  <div id=\"df-51c4bbfd-8248-4748-b5e1-83b825450f01\" class=\"colab-df-container\">\n",
              "    <div>\n",
              "<style scoped>\n",
              "    .dataframe tbody tr th:only-of-type {\n",
              "        vertical-align: middle;\n",
              "    }\n",
              "\n",
              "    .dataframe tbody tr th {\n",
              "        vertical-align: top;\n",
              "    }\n",
              "\n",
              "    .dataframe thead th {\n",
              "        text-align: right;\n",
              "    }\n",
              "</style>\n",
              "<table border=\"1\" class=\"dataframe\">\n",
              "  <thead>\n",
              "    <tr style=\"text-align: right;\">\n",
              "      <th></th>\n",
              "      <th>BOROUGH</th>\n",
              "      <th>ZIP CODE</th>\n",
              "      <th>LATITUDE</th>\n",
              "      <th>LONGITUDE</th>\n",
              "      <th>LOCATION</th>\n",
              "      <th>ON STREET NAME</th>\n",
              "      <th>CROSS STREET NAME</th>\n",
              "      <th>OFF STREET NAME</th>\n",
              "      <th>NUMBER OF PERSONS INJURED</th>\n",
              "      <th>NUMBER OF PERSONS KILLED</th>\n",
              "      <th>...</th>\n",
              "      <th>NUMBER OF MOTORIST INJURED</th>\n",
              "      <th>NUMBER OF MOTORIST KILLED</th>\n",
              "      <th>CONTRIBUTING FACTOR VEHICLE 1</th>\n",
              "      <th>CONTRIBUTING FACTOR VEHICLE 2</th>\n",
              "      <th>COLLISION_ID</th>\n",
              "      <th>VEHICLE TYPE CODE 1</th>\n",
              "      <th>VEHICLE TYPE CODE 2</th>\n",
              "      <th>CRASH DATETIME</th>\n",
              "      <th>DAY OF WEEK</th>\n",
              "      <th>HOUR OF DAY</th>\n",
              "    </tr>\n",
              "  </thead>\n",
              "  <tbody>\n",
              "    <tr>\n",
              "      <th>6146</th>\n",
              "      <td>NaN</td>\n",
              "      <td>NaN</td>\n",
              "      <td>40.707966</td>\n",
              "      <td>-73.999750</td>\n",
              "      <td>(40.707966, -73.99975)</td>\n",
              "      <td>FDR DRIVE</td>\n",
              "      <td>NaN</td>\n",
              "      <td>NaN</td>\n",
              "      <td>0.0</td>\n",
              "      <td>0.0</td>\n",
              "      <td>...</td>\n",
              "      <td>0.0</td>\n",
              "      <td>0.0</td>\n",
              "      <td>Unsafe Lane Changing</td>\n",
              "      <td>Unspecified</td>\n",
              "      <td>4713934.0</td>\n",
              "      <td>Sedan</td>\n",
              "      <td>Sedan</td>\n",
              "      <td>2024-03-29 10:39:00</td>\n",
              "      <td>Friday</td>\n",
              "      <td>10</td>\n",
              "    </tr>\n",
              "    <tr>\n",
              "      <th>6562</th>\n",
              "      <td>BRONX</td>\n",
              "      <td>10458.0</td>\n",
              "      <td>40.866730</td>\n",
              "      <td>-73.887730</td>\n",
              "      <td>(40.86673, -73.88773)</td>\n",
              "      <td>NaN</td>\n",
              "      <td>NaN</td>\n",
              "      <td>2781      MARION AVENUE</td>\n",
              "      <td>0.0</td>\n",
              "      <td>0.0</td>\n",
              "      <td>...</td>\n",
              "      <td>0.0</td>\n",
              "      <td>0.0</td>\n",
              "      <td>Unspecified</td>\n",
              "      <td>Unspecified</td>\n",
              "      <td>4708608.0</td>\n",
              "      <td>Sedan</td>\n",
              "      <td>NaN</td>\n",
              "      <td>2024-03-10 09:46:00</td>\n",
              "      <td>Sunday</td>\n",
              "      <td>9</td>\n",
              "    </tr>\n",
              "    <tr>\n",
              "      <th>643</th>\n",
              "      <td>MANHATTAN</td>\n",
              "      <td>10009.0</td>\n",
              "      <td>40.730877</td>\n",
              "      <td>-73.982900</td>\n",
              "      <td>(40.730877, -73.9829)</td>\n",
              "      <td>NaN</td>\n",
              "      <td>NaN</td>\n",
              "      <td>222       1 AVENUE</td>\n",
              "      <td>0.0</td>\n",
              "      <td>0.0</td>\n",
              "      <td>...</td>\n",
              "      <td>0.0</td>\n",
              "      <td>0.0</td>\n",
              "      <td>Driver Inattention/Distraction</td>\n",
              "      <td>Unspecified</td>\n",
              "      <td>4689818.0</td>\n",
              "      <td>Sedan</td>\n",
              "      <td>Bus</td>\n",
              "      <td>2023-12-22 21:13:00</td>\n",
              "      <td>Friday</td>\n",
              "      <td>21</td>\n",
              "    </tr>\n",
              "    <tr>\n",
              "      <th>4549</th>\n",
              "      <td>NaN</td>\n",
              "      <td>NaN</td>\n",
              "      <td>40.902958</td>\n",
              "      <td>-73.896416</td>\n",
              "      <td>(40.902958, -73.896416)</td>\n",
              "      <td>BROADWAY</td>\n",
              "      <td>NaN</td>\n",
              "      <td>NaN</td>\n",
              "      <td>2.0</td>\n",
              "      <td>0.0</td>\n",
              "      <td>...</td>\n",
              "      <td>2.0</td>\n",
              "      <td>0.0</td>\n",
              "      <td>Unspecified</td>\n",
              "      <td>Unspecified</td>\n",
              "      <td>4644472.0</td>\n",
              "      <td>Sedan</td>\n",
              "      <td>Sedan</td>\n",
              "      <td>2023-07-09 22:22:00</td>\n",
              "      <td>Sunday</td>\n",
              "      <td>22</td>\n",
              "    </tr>\n",
              "    <tr>\n",
              "      <th>8742</th>\n",
              "      <td>NaN</td>\n",
              "      <td>NaN</td>\n",
              "      <td>40.607212</td>\n",
              "      <td>-74.076820</td>\n",
              "      <td>(40.607212, -74.07682)</td>\n",
              "      <td>HYLAN BOULEVARD</td>\n",
              "      <td>NARROWS ROAD NORTH</td>\n",
              "      <td>NaN</td>\n",
              "      <td>0.0</td>\n",
              "      <td>0.0</td>\n",
              "      <td>...</td>\n",
              "      <td>0.0</td>\n",
              "      <td>0.0</td>\n",
              "      <td>Driver Inattention/Distraction</td>\n",
              "      <td>Unspecified</td>\n",
              "      <td>4561084.0</td>\n",
              "      <td>Station Wagon/Sport Utility Vehicle</td>\n",
              "      <td>NaN</td>\n",
              "      <td>2022-09-04 05:00:00</td>\n",
              "      <td>Sunday</td>\n",
              "      <td>5</td>\n",
              "    </tr>\n",
              "  </tbody>\n",
              "</table>\n",
              "<p>5 rows × 24 columns</p>\n",
              "</div>\n",
              "    <div class=\"colab-df-buttons\">\n",
              "\n",
              "  <div class=\"colab-df-container\">\n",
              "    <button class=\"colab-df-convert\" onclick=\"convertToInteractive('df-51c4bbfd-8248-4748-b5e1-83b825450f01')\"\n",
              "            title=\"Convert this dataframe to an interactive table.\"\n",
              "            style=\"display:none;\">\n",
              "\n",
              "  <svg xmlns=\"http://www.w3.org/2000/svg\" height=\"24px\" viewBox=\"0 -960 960 960\">\n",
              "    <path d=\"M120-120v-720h720v720H120Zm60-500h600v-160H180v160Zm220 220h160v-160H400v160Zm0 220h160v-160H400v160ZM180-400h160v-160H180v160Zm440 0h160v-160H620v160ZM180-180h160v-160H180v160Zm440 0h160v-160H620v160Z\"/>\n",
              "  </svg>\n",
              "    </button>\n",
              "\n",
              "  <style>\n",
              "    .colab-df-container {\n",
              "      display:flex;\n",
              "      gap: 12px;\n",
              "    }\n",
              "\n",
              "    .colab-df-convert {\n",
              "      background-color: #E8F0FE;\n",
              "      border: none;\n",
              "      border-radius: 50%;\n",
              "      cursor: pointer;\n",
              "      display: none;\n",
              "      fill: #1967D2;\n",
              "      height: 32px;\n",
              "      padding: 0 0 0 0;\n",
              "      width: 32px;\n",
              "    }\n",
              "\n",
              "    .colab-df-convert:hover {\n",
              "      background-color: #E2EBFA;\n",
              "      box-shadow: 0px 1px 2px rgba(60, 64, 67, 0.3), 0px 1px 3px 1px rgba(60, 64, 67, 0.15);\n",
              "      fill: #174EA6;\n",
              "    }\n",
              "\n",
              "    .colab-df-buttons div {\n",
              "      margin-bottom: 4px;\n",
              "    }\n",
              "\n",
              "    [theme=dark] .colab-df-convert {\n",
              "      background-color: #3B4455;\n",
              "      fill: #D2E3FC;\n",
              "    }\n",
              "\n",
              "    [theme=dark] .colab-df-convert:hover {\n",
              "      background-color: #434B5C;\n",
              "      box-shadow: 0px 1px 3px 1px rgba(0, 0, 0, 0.15);\n",
              "      filter: drop-shadow(0px 1px 2px rgba(0, 0, 0, 0.3));\n",
              "      fill: #FFFFFF;\n",
              "    }\n",
              "  </style>\n",
              "\n",
              "    <script>\n",
              "      const buttonEl =\n",
              "        document.querySelector('#df-51c4bbfd-8248-4748-b5e1-83b825450f01 button.colab-df-convert');\n",
              "      buttonEl.style.display =\n",
              "        google.colab.kernel.accessAllowed ? 'block' : 'none';\n",
              "\n",
              "      async function convertToInteractive(key) {\n",
              "        const element = document.querySelector('#df-51c4bbfd-8248-4748-b5e1-83b825450f01');\n",
              "        const dataTable =\n",
              "          await google.colab.kernel.invokeFunction('convertToInteractive',\n",
              "                                                    [key], {});\n",
              "        if (!dataTable) return;\n",
              "\n",
              "        const docLinkHtml = 'Like what you see? Visit the ' +\n",
              "          '<a target=\"_blank\" href=https://colab.research.google.com/notebooks/data_table.ipynb>data table notebook</a>'\n",
              "          + ' to learn more about interactive tables.';\n",
              "        element.innerHTML = '';\n",
              "        dataTable['output_type'] = 'display_data';\n",
              "        await google.colab.output.renderOutput(dataTable, element);\n",
              "        const docLink = document.createElement('div');\n",
              "        docLink.innerHTML = docLinkHtml;\n",
              "        element.appendChild(docLink);\n",
              "      }\n",
              "    </script>\n",
              "  </div>\n",
              "\n",
              "\n",
              "<div id=\"df-450f0448-78c3-40f8-9dac-1587ff466086\">\n",
              "  <button class=\"colab-df-quickchart\" onclick=\"quickchart('df-450f0448-78c3-40f8-9dac-1587ff466086')\"\n",
              "            title=\"Suggest charts\"\n",
              "            style=\"display:none;\">\n",
              "\n",
              "<svg xmlns=\"http://www.w3.org/2000/svg\" height=\"24px\"viewBox=\"0 0 24 24\"\n",
              "     width=\"24px\">\n",
              "    <g>\n",
              "        <path d=\"M19 3H5c-1.1 0-2 .9-2 2v14c0 1.1.9 2 2 2h14c1.1 0 2-.9 2-2V5c0-1.1-.9-2-2-2zM9 17H7v-7h2v7zm4 0h-2V7h2v10zm4 0h-2v-4h2v4z\"/>\n",
              "    </g>\n",
              "</svg>\n",
              "  </button>\n",
              "\n",
              "<style>\n",
              "  .colab-df-quickchart {\n",
              "      --bg-color: #E8F0FE;\n",
              "      --fill-color: #1967D2;\n",
              "      --hover-bg-color: #E2EBFA;\n",
              "      --hover-fill-color: #174EA6;\n",
              "      --disabled-fill-color: #AAA;\n",
              "      --disabled-bg-color: #DDD;\n",
              "  }\n",
              "\n",
              "  [theme=dark] .colab-df-quickchart {\n",
              "      --bg-color: #3B4455;\n",
              "      --fill-color: #D2E3FC;\n",
              "      --hover-bg-color: #434B5C;\n",
              "      --hover-fill-color: #FFFFFF;\n",
              "      --disabled-bg-color: #3B4455;\n",
              "      --disabled-fill-color: #666;\n",
              "  }\n",
              "\n",
              "  .colab-df-quickchart {\n",
              "    background-color: var(--bg-color);\n",
              "    border: none;\n",
              "    border-radius: 50%;\n",
              "    cursor: pointer;\n",
              "    display: none;\n",
              "    fill: var(--fill-color);\n",
              "    height: 32px;\n",
              "    padding: 0;\n",
              "    width: 32px;\n",
              "  }\n",
              "\n",
              "  .colab-df-quickchart:hover {\n",
              "    background-color: var(--hover-bg-color);\n",
              "    box-shadow: 0 1px 2px rgba(60, 64, 67, 0.3), 0 1px 3px 1px rgba(60, 64, 67, 0.15);\n",
              "    fill: var(--button-hover-fill-color);\n",
              "  }\n",
              "\n",
              "  .colab-df-quickchart-complete:disabled,\n",
              "  .colab-df-quickchart-complete:disabled:hover {\n",
              "    background-color: var(--disabled-bg-color);\n",
              "    fill: var(--disabled-fill-color);\n",
              "    box-shadow: none;\n",
              "  }\n",
              "\n",
              "  .colab-df-spinner {\n",
              "    border: 2px solid var(--fill-color);\n",
              "    border-color: transparent;\n",
              "    border-bottom-color: var(--fill-color);\n",
              "    animation:\n",
              "      spin 1s steps(1) infinite;\n",
              "  }\n",
              "\n",
              "  @keyframes spin {\n",
              "    0% {\n",
              "      border-color: transparent;\n",
              "      border-bottom-color: var(--fill-color);\n",
              "      border-left-color: var(--fill-color);\n",
              "    }\n",
              "    20% {\n",
              "      border-color: transparent;\n",
              "      border-left-color: var(--fill-color);\n",
              "      border-top-color: var(--fill-color);\n",
              "    }\n",
              "    30% {\n",
              "      border-color: transparent;\n",
              "      border-left-color: var(--fill-color);\n",
              "      border-top-color: var(--fill-color);\n",
              "      border-right-color: var(--fill-color);\n",
              "    }\n",
              "    40% {\n",
              "      border-color: transparent;\n",
              "      border-right-color: var(--fill-color);\n",
              "      border-top-color: var(--fill-color);\n",
              "    }\n",
              "    60% {\n",
              "      border-color: transparent;\n",
              "      border-right-color: var(--fill-color);\n",
              "    }\n",
              "    80% {\n",
              "      border-color: transparent;\n",
              "      border-right-color: var(--fill-color);\n",
              "      border-bottom-color: var(--fill-color);\n",
              "    }\n",
              "    90% {\n",
              "      border-color: transparent;\n",
              "      border-bottom-color: var(--fill-color);\n",
              "    }\n",
              "  }\n",
              "</style>\n",
              "\n",
              "  <script>\n",
              "    async function quickchart(key) {\n",
              "      const quickchartButtonEl =\n",
              "        document.querySelector('#' + key + ' button');\n",
              "      quickchartButtonEl.disabled = true;  // To prevent multiple clicks.\n",
              "      quickchartButtonEl.classList.add('colab-df-spinner');\n",
              "      try {\n",
              "        const charts = await google.colab.kernel.invokeFunction(\n",
              "            'suggestCharts', [key], {});\n",
              "      } catch (error) {\n",
              "        console.error('Error during call to suggestCharts:', error);\n",
              "      }\n",
              "      quickchartButtonEl.classList.remove('colab-df-spinner');\n",
              "      quickchartButtonEl.classList.add('colab-df-quickchart-complete');\n",
              "    }\n",
              "    (() => {\n",
              "      let quickchartButtonEl =\n",
              "        document.querySelector('#df-450f0448-78c3-40f8-9dac-1587ff466086 button');\n",
              "      quickchartButtonEl.style.display =\n",
              "        google.colab.kernel.accessAllowed ? 'block' : 'none';\n",
              "    })();\n",
              "  </script>\n",
              "</div>\n",
              "\n",
              "    </div>\n",
              "  </div>\n"
            ],
            "application/vnd.google.colaboratory.intrinsic+json": {
              "type": "dataframe",
              "variable_name": "cleaned_data"
            }
          },
          "metadata": {},
          "execution_count": 10
        }
      ]
    },
    {
      "cell_type": "code",
      "source": [
        "# Display cleaning results\n",
        "print(\"Missing Values Summary:\")\n",
        "print(df.isnull().sum())\n",
        "\n",
        "print(\"\\nUnique Values in Key Columns:\")\n",
        "print(\"Number of Unique Locations:\", df['LOCATION'].nunique())\n",
        "print(\"Number of Unique Contributing Factors:\", df['CONTRIBUTING FACTOR VEHICLE 1'].nunique())"
      ],
      "metadata": {
        "colab": {
          "base_uri": "https://localhost:8080/"
        },
        "id": "McrT-xpoEkGm",
        "outputId": "3c66a27f-0a2f-4106-c2b1-219b71ed68a2"
      },
      "execution_count": 11,
      "outputs": [
        {
          "output_type": "stream",
          "name": "stdout",
          "text": [
            "Missing Values Summary:\n",
            "CRASH DATE                          0\n",
            "CRASH TIME                          0\n",
            "BOROUGH                          3468\n",
            "ZIP CODE                         3470\n",
            "LATITUDE                          815\n",
            "LONGITUDE                         815\n",
            "LOCATION                          815\n",
            "ON STREET NAME                   2503\n",
            "CROSS STREET NAME                5121\n",
            "OFF STREET NAME                  7508\n",
            "NUMBER OF PERSONS INJURED           0\n",
            "NUMBER OF PERSONS KILLED            0\n",
            "NUMBER OF PEDESTRIANS INJURED       0\n",
            "NUMBER OF PEDESTRIANS KILLED        0\n",
            "NUMBER OF CYCLIST INJURED           0\n",
            "NUMBER OF CYCLIST KILLED            0\n",
            "NUMBER OF MOTORIST INJURED          0\n",
            "NUMBER OF MOTORIST KILLED           0\n",
            "CONTRIBUTING FACTOR VEHICLE 1      35\n",
            "CONTRIBUTING FACTOR VEHICLE 2    1834\n",
            "CONTRIBUTING FACTOR VEHICLE 3    9161\n",
            "CONTRIBUTING FACTOR VEHICLE 4    9807\n",
            "CONTRIBUTING FACTOR VEHICLE 5    9945\n",
            "COLLISION_ID                        0\n",
            "VEHICLE TYPE CODE 1                73\n",
            "VEHICLE TYPE CODE 2              2512\n",
            "VEHICLE TYPE CODE 3              9216\n",
            "VEHICLE TYPE CODE 4              9817\n",
            "VEHICLE TYPE CODE 5              9950\n",
            "dtype: int64\n",
            "\n",
            "Unique Values in Key Columns:\n",
            "Number of Unique Locations: 7821\n",
            "Number of Unique Contributing Factors: 49\n"
          ]
        }
      ]
    },
    {
      "cell_type": "markdown",
      "source": [
        "After data cleaning and wrangling, 815 rows were removed. The removed rows largely contain missing values across key columns:\n",
        "\n",
        "BOROUGH: Most removed rows have missing borough information.\n",
        "\n",
        "LATITUDE and LONGITUDE: Geographic data is missing.\n",
        "\n",
        "LOCATION and street-related columns (ON STREET NAME, CROSS STREET NAME) are also incomplete.\n",
        "\n",
        "\n",
        "A total of 8 columns were droped\n",
        "\n",
        "CRASH DATE and CRASH TIME: These columns have been removed because they were unnecessary for the analysis, or the focus was on aggregated crash data (e.g., borough-level or numerical analysis).\n",
        "\n",
        "CONTRIBUTING FACTOR VEHICLE 3-5 and VEHICLE TYPE CODE 3-5: These columns contained excessive missing values or were rarely populated.\n",
        "\n",
        "Vehicle-specific information for the third, fourth, and fifth vehicles in a crash might not have been relevant in most cases."
      ],
      "metadata": {
        "id": "Binli7FLkGjt"
      }
    },
    {
      "cell_type": "code",
      "execution_count": 18,
      "metadata": {
        "colab": {
          "base_uri": "https://localhost:8080/",
          "height": 407
        },
        "id": "SeGhQFqs-0DF",
        "outputId": "06ffd2d5-507f-44cf-98ef-8e6c6a2de9c3"
      },
      "outputs": [
        {
          "output_type": "display_data",
          "data": {
            "text/plain": [
              "<Figure size 800x400 with 1 Axes>"
            ],
            "image/png": "[encoded data removed]"
          },
          "metadata": {}
        }
      ],
      "source": [
        "import pandas as pd\n",
        "import matplotlib.pyplot as plt\n",
        "import seaborn as sns\n",
        "df = pd.read_csv('final_data.csv')\n",
        "\n",
        "plt.figure(figsize=(8, 4))\n",
        "borough_counts = df['BOROUGH'].value_counts()\n",
        "borough_counts.plot(kind='bar')\n",
        "plt.title('Accident Distribution by Borough')\n",
        "plt.xlabel('Borough')\n",
        "plt.ylabel('Number of Accidents')\n",
        "plt.xticks(rotation=45)\n",
        "plt.tight_layout()\n",
        "plt.show()"
      ]
    },
    {
      "cell_type": "code",
      "source": [],
      "metadata": {
        "id": "IAENUYZMDqOk"
      },
      "execution_count": null,
      "outputs": []
    },
    {
      "cell_type": "markdown",
      "source": [
        "### Analysis of Accident Distribution by Borough\n",
        "\n",
        "The data shows a clear pattern in how traffic accidents are distributed across New York City's boroughs:\n",
        "\n",
        "1. Brooklyn has the highest number of accidents (approximately 2,000)\n",
        "2. Queens follows as the second most accident-prone borough (around 1,600 accidents)\n",
        "3. Manhattan and Bronx show similar numbers (about 1,000 accidents each)\n",
        "4. Staten Island has significantly fewer accidents (around 200)\n",
        "\n",
        "This distribution likely reflects factors such as population density, traffic volume, and street layout complexity in each borough."
      ],
      "metadata": {
        "id": "k1QTlhABA3UG"
      }
    },
    {
      "cell_type": "code",
      "source": [
        "plt.figure(figsize=(8, 4))\n",
        "day_order = ['Monday', 'Tuesday', 'Wednesday', 'Thursday', 'Friday', 'Saturday', 'Sunday']\n",
        "weekday_counts = df['DAY OF WEEK'].value_counts().reindex(day_order)\n",
        "weekday_counts.plot(kind='bar')\n",
        "plt.title('Accidents by Day of Week')\n",
        "plt.xlabel('Day of Week')\n",
        "plt.ylabel('Number of Accidents')\n",
        "plt.xticks(rotation=45)\n",
        "plt.tight_layout()\n",
        "plt.show()"
      ],
      "metadata": {
        "colab": {
          "base_uri": "https://localhost:8080/",
          "height": 407
        },
        "id": "bJu27DLrA6yA",
        "outputId": "f00be743-a23c-4239-ac50-5d535dacd182"
      },
      "execution_count": 19,
      "outputs": [
        {
          "output_type": "display_data",
          "data": {
            "text/plain": [
              "<Figure size 800x400 with 1 Axes>"
            ],
            "image/png": "[encoded data removed]"
          },
          "metadata": {}
        }
      ]
    },
    {
      "cell_type": "markdown",
      "source": [
        "### Temporal Analysis of Accidents\n",
        "\n",
        "The distribution of accidents across the week reveals interesting patterns:\n",
        "\n",
        "1. Friday shows the highest number of accidents (approximately 1,400)\n",
        "2. Weekdays (Monday-Thursday) maintain relatively consistent accident numbers (around 1,300 each)\n",
        "3. Weekend days, particularly Sunday, show lower accident rates (around 1,100)\n",
        "4. This pattern suggests a strong correlation with commuter traffic patterns\n",
        "\n",
        "The higher number of accidents on Fridays might be attributed to increased traffic from weekend travelers, driver fatigue at week's end, and more social activities."
      ],
      "metadata": {
        "id": "ywYn9KNyA7c8"
      }
    },
    {
      "cell_type": "code",
      "source": [
        "plt.figure(figsize=(8, 4))\n",
        "factors = df['CONTRIBUTING FACTOR VEHICLE 1'].value_counts().head(10)\n",
        "factors.plot(kind='barh')\n",
        "plt.title('Top 10 Contributing Factors in Accidents')\n",
        "plt.xlabel('Number of Accidents')\n",
        "plt.tight_layout()\n",
        "plt.show()"
      ],
      "metadata": {
        "colab": {
          "base_uri": "https://localhost:8080/",
          "height": 407
        },
        "id": "ORDbHl4FBIvr",
        "outputId": "4f340cd7-0e43-44c8-f8f5-1815f308f5c1"
      },
      "execution_count": 15,
      "outputs": [
        {
          "output_type": "display_data",
          "data": {
            "text/plain": [
              "<Figure size 800x400 with 1 Axes>"
            ],
            "image/png": "[encoded data removed]"
          },
          "metadata": {}
        }
      ]
    },
    {
      "cell_type": "markdown",
      "source": [
        "### Analysis of Contributing Factors\n",
        "\n",
        "The top contributing factors to accidents reveal important insights about driver behavior:\n",
        "\n",
        "1. Driver Inattention/Distraction is overwhelmingly the leading cause (over 2,000 cases)\n",
        "2. \"Unspecified\" represents the second largest category, indicating potential gaps in accident reporting\n",
        "3. Following Too Closely and Failure to Yield Right-of-Way are significant factors\n",
        "4. Unsafe driving behaviors (improper lane usage, backing unsafely) contribute to many accidents\n",
        "\n",
        "This analysis suggests many accidents could be prevented through better driver education and improved enforcement of traffic rules."
      ],
      "metadata": {
        "id": "Wfnvu3i4BLRV"
      }
    },
    {
      "cell_type": "code",
      "source": [
        "stats = {\n",
        "    'Total Accidents': len(df),\n",
        "    'Total Injuries': df['NUMBER OF PERSONS INJURED'].sum(),\n",
        "    'Total Fatalities': df['NUMBER OF PERSONS KILLED'].sum(),\n",
        "    'Average Injuries per Accident': df['NUMBER OF PERSONS INJURED'].mean()\n",
        "}\n",
        "print(\"\\nAccident Statistics:\")\n",
        "for key, value in stats.items():\n",
        "    print(f\"{key}: {value:.2f}\")\n",
        "\n",
        "plt.figure(figsize=(6, 4))\n",
        "vehicle_counts = df['VEHICLE TYPE CODE 1'].value_counts().head()\n",
        "vehicle_counts.plot(kind='pie', autopct='%1.1f%%')\n",
        "plt.title('Distribution of Vehicle Types in Accidents')\n",
        "plt.axis('equal')\n",
        "plt.show()"
      ],
      "metadata": {
        "colab": {
          "base_uri": "https://localhost:8080/",
          "height": 473
        },
        "id": "0C1If8qdBNsz",
        "outputId": "70cfd9fd-58e5-42fd-89b4-082875a8f5e2"
      },
      "execution_count": 20,
      "outputs": [
        {
          "output_type": "stream",
          "name": "stdout",
          "text": [
            "\n",
            "Accident Statistics:\n",
            "Total Accidents: 9185.00\n",
            "Total Injuries: 2998.00\n",
            "Total Fatalities: 16.00\n",
            "Average Injuries per Accident: 0.33\n"
          ]
        },
        {
          "output_type": "display_data",
          "data": {
            "text/plain": [
              "<Figure size 600x400 with 1 Axes>"
            ],
            "image/png": "[encoded data removed]"
          },
          "metadata": {}
        }
      ]
    },
    {
      "cell_type": "markdown",
      "source": [
        "### Vehicle Type Distribution and Overall Statistics\n",
        "\n",
        "The analysis of vehicle types involved in accidents shows:\n",
        "1. Sedans make up the majority (51.4%) of vehicles in accidents\n",
        "2. SUVs/Station Wagons account for 39.3%\n",
        "3. Commercial vehicles (taxis, trucks) make up a smaller percentage\n",
        "\n",
        "Key Statistics:\n",
        "- Total Accidents: 9,165\n",
        "- Total Injuries: 2,958\n",
        "- Total Fatalities: 16\n",
        "- Average Injuries per Accident: 0.23\n",
        "\n",
        "These numbers indicate that while accidents are frequent, most are not fatal, though injury rates are significant. The predominance of passenger vehicles in accidents reflects their higher numbers on NYC roads."
      ],
      "metadata": {
        "id": "IyGC3cc8BVk6"
      }
    },
    {
      "cell_type": "markdown",
      "source": [
        "## Conclusions\n",
        "\n",
        "Our analysis revealed several key findings that address our research questions:\n",
        "\n",
        "1. Location Patterns:\n",
        "   - Brooklyn and Queens are the most accident-prone boroughs\n",
        "   - Specific high-risk areas identified through geographical analysis\n",
        "   - Clear correlation between population density and accident frequency\n",
        "\n",
        "2. Contributing Factors:\n",
        "   - Driver inattention is the primary cause\n",
        "   - Temporal patterns show higher risk during weekdays\n",
        "   - Vehicle type distribution reflects general traffic composition\n",
        "\n",
        "Recommendations:\n",
        "- Focus enforcement in high-risk boroughs\n",
        "- Implement targeted awareness campaigns about distracted driving\n",
        "- Consider additional safety measures during peak accident times"
      ],
      "metadata": {
        "id": "4eSl07wmE692"
      }
    }
  ]
}